{
 "cells": [
  {
   "cell_type": "markdown",
   "id": "021cfd5f",
   "metadata": {},
   "source": [
    "\n",
    "# CPython, Python e sua aplicação de alto desempenho\n",
    "**Python Brasil 2025 — Esbel Tomas Valero Orellana**\n",
    "\n",
    "> Este notebook acompanha a palestra e contém o conteúdo dos slides com exemplos executáveis.\n",
    ">\n",
    "> **Objetivo**: mostrar como combinar Python com C/C++ (via CPython) e explorar paralelismo (OpenMP / CUDA) para acelerar aplicações, usando o problema de multiplicação de matrizes como estudo de caso.\n",
    "\n",
    "## Sumário \n",
    "1. [Preparação do ambiente](#prep)\n",
    "2. [Baseline 1: Python puro (loops)](#py-puro)\n",
    "3. [Baseline 2: NumPy (BLAS/LAPACK)](#numpy)\n",
    "4. [Comparativos de desempenho (gráfico)](#comparativo)\n",
    "5. [Extensão nativa com CPython API (C)](#cpython)\n",
    "6. [OpenMP (CPU)](#openmp)\n",
    "7. [CUDA / GPU (opcional)](#cuda)\n",
    "8. [Discussão e próximos passos](#fim)\n",
    "\n",
    "> **Aviso**: alguns experimentos podem levar tempo, dependendo do tamanho da matriz. Use o modo *rápido* para testes durante a apresentação.\n"
   ]
  },
  {
   "cell_type": "markdown",
   "id": "bdf27f98",
   "metadata": {},
   "source": [
    "\n",
    "<a id=\"prep\"></a>\n",
    "\n",
    "## 1) Preparação do ambiente\n",
    "\n",
    "- Este notebook usa apenas **NumPy** e **Matplotlib** (e, opcionalmente, **CuPy** se houver GPU).\n",
    "- Para a parte de CPython (C), geramos arquivos `mymatmul.c` e `setup.py` e compilamos localmente.\n",
    "- Ajuste o modo **QUICK** para reduzir o tempo dos testes.\n"
   ]
  },
  {
   "cell_type": "code",
   "execution_count": 1,
   "id": "3dec3973",
   "metadata": {},
   "outputs": [
    {
     "name": "stdout",
     "output_type": "stream",
     "text": [
      "Python 3.11.14 | NumPy 2.3.4\n",
      "Plataforma: Linux-5.15.167.4-microsoft-standard-WSL2-x86_64-with-glibc2.39\n",
      "Modo QUICK: True\n",
      "Tamanhos: [64, 128, 256] | Repetições por ponto: 3\n"
     ]
    }
   ],
   "source": [
    "\n",
    "# Configurações gerais\n",
    "import sys, platform, time, math, statistics as stats\n",
    "import numpy as np\n",
    "from random import random   \n",
    "\n",
    "\n",
    "try:\n",
    "    import matplotlib.pyplot as plt\n",
    "except Exception as e:\n",
    "    raise SystemExit(\"Matplotlib é necessário para os gráficos. Instale e reexecute.\")\n",
    "\n",
    "# Reprodutibilidade\n",
    "np.random.seed(42)\n",
    "\n",
    "# Modo rápido (True: matrizes menores; False: matrizes maiores)\n",
    "QUICK = True\n",
    "\n",
    "# Tamanhos padrão (ajuste ao seu hardware)\n",
    "SIZES = [64, 128, 256] if QUICK else [128, 256, 512, 1024]\n",
    "REPEATS = 3 if QUICK else 5\n",
    "\n",
    "print(f\"Python {sys.version.split()[0]} | NumPy {np.__version__}\")\n",
    "print(f\"Plataforma: {platform.platform()}\")\n",
    "print(\"Modo QUICK:\", QUICK)\n",
    "print(\"Tamanhos:\", SIZES, \"| Repetições por ponto:\", REPEATS)\n"
   ]
  },
  {
   "cell_type": "markdown",
   "id": "b9a63e46",
   "metadata": {},
   "source": [
    "\n",
    "<a id=\"py-puro\"></a>\n",
    "\n",
    "## 2) Baseline 1 — Multiplicação de matrizes em **Python puro**\n",
    "\n",
    "Propósito: visualizar o custo de loops aninhados em Python (sob o CPython e o GIL).\n",
    "**Atenção**: para tamanhos grandes, este método é muito lento — mantenha tamanhos pequenos no modo *rápido*.\n"
   ]
  },
  {
   "cell_type": "code",
   "execution_count": 2,
   "id": "39e6ea22",
   "metadata": {},
   "outputs": [
    {
     "name": "stdout",
     "output_type": "stream",
     "text": [
      "OK: C_small shape = 64x64\n"
     ]
    }
   ],
   "source": [
    "def matmul_py(A, B):\n",
    "    \"\"\"\n",
    "    Multiplicação de matrizes (listas de listas) 3 loops em Python puro.\n",
    "    A e B devem ser listas de listas de float (ou ints).\n",
    "    \"\"\"\n",
    "    m = len(A)\n",
    "    n = len(B[0])\n",
    "    p = len(B)\n",
    "    p_ = len(A[0])\n",
    "    assert p == p_, \"Dimensões inválidas para multiplicação de matrizes.\"\n",
    "    C = [[0.0]*n for _ in range(m)]\n",
    "    for i in range(m):\n",
    "        for j in range(n):\n",
    "            for k in range(p):\n",
    "                C[i][j] += A[i][k] * B[k][j]\n",
    "    return C\n",
    "\n",
    "# Teste pequeno para validar a função\n",
    "\n",
    "n = 64\n",
    "A_small = [[random() for i in range(n)] for j in range(n)]\n",
    "B_small = [[random() for i in range(n)] for j in range(n)]\n",
    "C_small = matmul_py(A_small, B_small)\n",
    "print(f\"OK: C_small shape = {len(C_small)}x{len(C_small[0])}\")"
   ]
  },
  {
   "cell_type": "code",
   "execution_count": 3,
   "id": "06e15901",
   "metadata": {},
   "outputs": [
    {
     "name": "stdout",
     "output_type": "stream",
     "text": [
      "OK: C_small_array shape = (64, 64)\n"
     ]
    }
   ],
   "source": [
    "def matmul_py_array(A: np.ndarray, B: np.ndarray) -> np.ndarray:\n",
    "    \"\"\"\n",
    "    Multiplicação de matrizes usando loops Python puros e arrays NumPy.\n",
    "    A e B devem ser np.ndarray 2D.\n",
    "    \"\"\"\n",
    "    m, p_ = A.shape\n",
    "    p, n = B.shape\n",
    "    assert p_ == p, \"Dimensões inválidas para multiplicação de matrizes.\"\n",
    "    C = np.zeros((m, n))\n",
    "\n",
    "    for i in range(m):\n",
    "        for j in range(n):\n",
    "            for k in range(p):\n",
    "                C[i, j] += A[i, k] * B[k, j]\n",
    "    return C\n",
    "\n",
    "# Teste pequeno para validar a função\n",
    "C_small_array = matmul_py_array(np.array(A_small), np.array(B_small))\n",
    "print(f\"OK: C_small_array shape = {C_small_array.shape}\")"
   ]
  },
  {
   "cell_type": "code",
   "execution_count": 4,
   "id": "0fab3ecb",
   "metadata": {},
   "outputs": [
    {
     "name": "stdout",
     "output_type": "stream",
     "text": [
      "Tamanho 64x64 | Python puro: 0.023s | NumPy: 0.001s | Razão (py/np): 28.0×\n",
      "Tamanho 64x64 | Python puro com np.ndarray: 0.105s | NumPy: 0.001s | Razão (py_array/np): 126.4×\n"
     ]
    }
   ],
   "source": [
    "\n",
    "# Benchmark rápido Python puro vs NumPy (pequenos)\n",
    "n = 64 if QUICK else 128\n",
    "A = np.random.rand(n, n)\n",
    "B = np.random.rand(n, n)\n",
    "\n",
    "t0 = time.time()\n",
    "_ = matmul_py(A.tolist(), B.tolist())\n",
    "t_py = time.time() - t0\n",
    "\n",
    "t0 = time.time()\n",
    "_ = matmul_py_array(A, B)\n",
    "t_py_array = time.time() - t0\n",
    "\n",
    "t0 = time.time()\n",
    "_ = A @ B\n",
    "t_np = time.time() - t0\n",
    "\n",
    "print(f\"Tamanho {n}x{n} | Python puro: {t_py:.3f}s | NumPy: {t_np:.3f}s | Razão (py/np): {t_py/t_np:.1f}×\")\n",
    "print(f\"Tamanho {n}x{n} | Python puro com np.ndarray: {t_py_array:.3f}s | NumPy: {t_np:.3f}s | Razão (py_array/np): {t_py_array/t_np:.1f}×\")"
   ]
  },
  {
   "cell_type": "code",
   "execution_count": 5,
   "id": "fb5c9df8",
   "metadata": {},
   "outputs": [
    {
     "name": "stdout",
     "output_type": "stream",
     "text": [
      "31 ms ± 5.05 ms per loop (mean ± std. dev. of 7 runs, 3 loops each)\n"
     ]
    }
   ],
   "source": [
    "%timeit -n 3 matmul_py(A.tolist(), B.tolist())"
   ]
  },
  {
   "cell_type": "code",
   "execution_count": 6,
   "id": "f1371e4e",
   "metadata": {},
   "outputs": [
    {
     "name": "stdout",
     "output_type": "stream",
     "text": [
      "148 ms ± 5.86 ms per loop (mean ± std. dev. of 7 runs, 3 loops each)\n"
     ]
    }
   ],
   "source": [
    "%timeit -n 3 matmul_py_array(A, B)"
   ]
  },
  {
   "cell_type": "code",
   "execution_count": 7,
   "id": "ecb635dd",
   "metadata": {},
   "outputs": [
    {
     "name": "stdout",
     "output_type": "stream",
     "text": [
      "The slowest run took 16.62 times longer than the fastest. This could mean that an intermediate result is being cached.\n",
      "104 μs ± 138 μs per loop (mean ± std. dev. of 7 runs, 3 loops each)\n"
     ]
    }
   ],
   "source": [
    "%timeit -n 3 A @ B"
   ]
  },
  {
   "cell_type": "markdown",
   "id": "d4113a51",
   "metadata": {},
   "source": [
    "\n",
    "<a id=\"numpy\"></a>\n",
    "\n",
    "## 3) Baseline 2 — **NumPy** (BLAS/LAPACK por baixo dos panos)\n",
    "\n",
    "- `A @ B` chama rotinas otimizadas em C/Fortran (BLAS).\n",
    "- Para muitos casos, **isso já basta** e é a melhor relação esforço/ganho.\n"
   ]
  },
  {
   "cell_type": "code",
   "execution_count": 8,
   "id": "dc2faabd",
   "metadata": {},
   "outputs": [
    {
     "data": {
      "text/plain": [
       "[{'n': 64,\n",
       "  'mean': 6.18298848470052e-05,\n",
       "  'std': 4.644629450506354e-05,\n",
       "  'dtype': \"<class 'numpy.float64'>\"},\n",
       " {'n': 128,\n",
       "  'mean': 0.008302052815755209,\n",
       "  'std': 0.011153957642327546,\n",
       "  'dtype': \"<class 'numpy.float64'>\"},\n",
       " {'n': 256,\n",
       "  'mean': 0.027113040288289387,\n",
       "  'std': 0.019610784953812584,\n",
       "  'dtype': \"<class 'numpy.float64'>\"}]"
      ]
     },
     "execution_count": 8,
     "metadata": {},
     "output_type": "execute_result"
    }
   ],
   "source": [
    "def bench_numpy(sizes=SIZES, repeats=REPEATS, dtype=np.float64):\n",
    "    results = []\n",
    "    for n in sizes:\n",
    "        times = []\n",
    "        for _ in range(repeats):\n",
    "            A = np.random.rand(n, n).astype(dtype, copy=False)\n",
    "            B = np.random.rand(n, n).astype(dtype, copy=False)\n",
    "            t0 = time.time()\n",
    "            C = A @ B\n",
    "            times.append(time.time() - t0)\n",
    "        results.append({\"n\": n, \"mean\": float(np.mean(times)), \"std\": float(np.std(times)), \"dtype\": str(dtype)})\n",
    "    return results\n",
    "\n",
    "numpy_results = bench_numpy()\n",
    "numpy_results"
   ]
  },
  {
   "cell_type": "markdown",
   "id": "afdb297d",
   "metadata": {},
   "source": [
    "\n",
    "<a id=\"comparativo\"></a>\n",
    "\n",
    "## 4) Comparativo de desempenho (gráfico)\n",
    "\n",
    "- Gráfico do tempo (s) em função do tamanho da matriz `n`.\n",
    "- Inclui Python puro **apenas para um tamanho de referência**.\n"
   ]
  },
  {
   "cell_type": "code",
   "execution_count": 9,
   "id": "89386089",
   "metadata": {},
   "outputs": [
    {
     "data": {
      "image/png": "[encoded data removed]",
      "text/plain": [
       "<Figure size 600x400 with 1 Axes>"
      ]
     },
     "metadata": {},
     "output_type": "display_data"
    }
   ],
   "source": [
    "\n",
    "# Coletar um ponto de Python puro para o menor n\n",
    "n_ref = SIZES[0]\n",
    "A = np.random.rand(n_ref, n_ref)\n",
    "B = np.random.rand(n_ref, n_ref)\n",
    "t0 = time.time()\n",
    "_ = matmul_py(A.tolist(), B.tolist())\n",
    "py_point = (n_ref, time.time() - t0)\n",
    "\n",
    "# Preparar dados NumPy\n",
    "xs = [r[\"n\"] for r in numpy_results]\n",
    "ys = [r[\"mean\"] for r in numpy_results]\n",
    "\n",
    "# Plot (uma figura, sem cores específicas)\n",
    "plt.figure(figsize=(6,4))\n",
    "plt.plot(xs, ys, marker=\"o\", label=\"NumPy (@)\")\n",
    "plt.scatter([py_point[0]], [py_point[1]], marker=\"x\", s=80, label=f\"Python puro (n={n_ref})\")\n",
    "plt.xlabel(\"Tamanho n (n×n)\")\n",
    "plt.ylabel(\"Tempo (s)\")\n",
    "plt.title(\"Multiplicação de matrizes: tempo × tamanho\")\n",
    "plt.grid(True, linestyle=\"--\", alpha=0.5)\n",
    "plt.legend()\n",
    "plt.show()\n"
   ]
  },
  {
   "cell_type": "markdown",
   "id": "f2329cc0",
   "metadata": {},
   "source": [
    "\n",
    "<a id=\"cpython\"></a>\n",
    "\n",
    "## 5) Extensão nativa com **CPython API (C)**\n",
    "\n",
    "Nesta seção, criamos um módulo C chamado `mymatmul` que expõe `matmul_seq(A, B)` e `matmul_omp(A, B)`:\n",
    "- Recebe **arrays NumPy** (contíguos, `float64`).\n",
    "- Usa a C-API do NumPy para acessar memória bruta.\n",
    "- Implementa multiplicação em C com laços otimizados e, opcionalmente, **OpenMP**.\n",
    "\n",
    "> Compilar extensões nativas depende do seu ambiente (compilador, flags, etc.).\n"
   ]
  },
  {
   "cell_type": "code",
   "execution_count": 10,
   "id": "a6164402",
   "metadata": {},
   "outputs": [
    {
     "name": "stdout",
     "output_type": "stream",
     "text": [
      "Arquivo gerado: mymatmul.c\n"
     ]
    }
   ],
   "source": [
    "\n",
    "# Gerar mymatmul.c\n",
    "mymatmul_c = r'''\n",
    "#define NPY_NO_DEPRECATED_API NPY_1_7_API_VERSION\n",
    "#include <Python.h>\n",
    "#include <numpy/arrayobject.h>\n",
    "\n",
    "#ifdef _OPENMP\n",
    "#include <omp.h>\n",
    "#endif\n",
    "\n",
    "static PyObject* matmul_seq(PyObject* self, PyObject* args) {\n",
    "    PyObject *Aobj, *Bobj;\n",
    "    if (!PyArg_ParseTuple(args, \"OO\", &Aobj, &Bobj)) {\n",
    "        return NULL;\n",
    "    }\n",
    "\n",
    "    PyArrayObject *A = (PyArrayObject*) PyArray_FROM_OTF(Aobj, NPY_DOUBLE, NPY_ARRAY_IN_ARRAY);\n",
    "    PyArrayObject *B = (PyArrayObject*) PyArray_FROM_OTF(Bobj, NPY_DOUBLE, NPY_ARRAY_IN_ARRAY);\n",
    "    if (!A || !B) {\n",
    "        Py_XDECREF(A); Py_XDECREF(B);\n",
    "        PyErr_SetString(PyExc_TypeError, \"Falha ao converter inputs para NumPy arrays (float64 contíguos).\");\n",
    "        return NULL;\n",
    "    }\n",
    "\n",
    "    if (PyArray_NDIM(A) != 2 || PyArray_NDIM(B) != 2) {\n",
    "        Py_DECREF(A); Py_DECREF(B);\n",
    "        PyErr_SetString(PyExc_ValueError, \"A e B devem ser matrizes 2D.\");\n",
    "        return NULL;\n",
    "    }\n",
    "\n",
    "    npy_intp n = PyArray_DIM(A, 0);\n",
    "    npy_intp p = PyArray_DIM(A, 1);\n",
    "    npy_intp p2 = PyArray_DIM(B, 0);\n",
    "    npy_intp m = PyArray_DIM(B, 1);\n",
    "    if (p != p2) {\n",
    "        Py_DECREF(A); Py_DECREF(B);\n",
    "        PyErr_SetString(PyExc_ValueError, \"Dimensões incompatíveis: A(n×p) e B(p×m).\");\n",
    "        return NULL;\n",
    "    }\n",
    "\n",
    "    npy_intp dims[2] = {n, m};\n",
    "    PyArrayObject *C = (PyArrayObject*) PyArray_ZEROS(2, dims, NPY_DOUBLE, 0);\n",
    "    if (!C) {\n",
    "        Py_DECREF(A); Py_DECREF(B);\n",
    "        PyErr_NoMemory();\n",
    "        return NULL;\n",
    "    }\n",
    "\n",
    "    double *a = (double*) PyArray_DATA(A);\n",
    "    double *b = (double*) PyArray_DATA(B);\n",
    "    double *c = (double*) PyArray_DATA(C);\n",
    "\n",
    "    npy_intp lda = PyArray_STRIDES(A)[0] / sizeof(double);\n",
    "    npy_intp ldb = PyArray_STRIDES(B)[0] / sizeof(double);\n",
    "    npy_intp ldc = PyArray_STRIDES(C)[0] / sizeof(double);\n",
    "\n",
    "    for (npy_intp i = 0; i < n; ++i) {\n",
    "        for (npy_intp k = 0; k < p; ++k) {\n",
    "            double aik = a[i*lda + k];\n",
    "            const double* bk = b + k*ldb;\n",
    "            double* ci = c + i*ldc;\n",
    "            for (npy_intp j = 0; j < m; ++j) {\n",
    "                ci[j] += aik * bk[j];\n",
    "            }\n",
    "        }\n",
    "    }\n",
    "\n",
    "    Py_DECREF(A); Py_DECREF(B);\n",
    "    return (PyObject*) C;\n",
    "}\n",
    "\n",
    "\n",
    "// C = A @ B, A (n x p), B (p x m), double (contíguo)\n",
    "static PyObject* matmul_omp(PyObject* self, PyObject* args) {\n",
    "    PyObject *Aobj, *Bobj;\n",
    "    if (!PyArg_ParseTuple(args, \"OO\", &Aobj, &Bobj)) {\n",
    "        return NULL;\n",
    "    }\n",
    "\n",
    "    PyArrayObject *A = (PyArrayObject*) PyArray_FROM_OTF(Aobj, NPY_DOUBLE, NPY_ARRAY_IN_ARRAY);\n",
    "    PyArrayObject *B = (PyArrayObject*) PyArray_FROM_OTF(Bobj, NPY_DOUBLE, NPY_ARRAY_IN_ARRAY);\n",
    "    if (!A || !B) {\n",
    "        Py_XDECREF(A); Py_XDECREF(B);\n",
    "        PyErr_SetString(PyExc_TypeError, \"Falha ao converter inputs para NumPy arrays (float64 contíguos).\");\n",
    "        return NULL;\n",
    "    }\n",
    "\n",
    "    if (PyArray_NDIM(A) != 2 || PyArray_NDIM(B) != 2) {\n",
    "        Py_DECREF(A); Py_DECREF(B);\n",
    "        PyErr_SetString(PyExc_ValueError, \"A e B devem ser matrizes 2D.\");\n",
    "        return NULL;\n",
    "    }\n",
    "\n",
    "    npy_intp n = PyArray_DIM(A, 0);\n",
    "    npy_intp p = PyArray_DIM(A, 1);\n",
    "    npy_intp p2 = PyArray_DIM(B, 0);\n",
    "    npy_intp m = PyArray_DIM(B, 1);\n",
    "    if (p != p2) {\n",
    "        Py_DECREF(A); Py_DECREF(B);\n",
    "        PyErr_SetString(PyExc_ValueError, \"Dimensões incompatíveis: A(n×p) e B(p×m).\");\n",
    "        return NULL;\n",
    "    }\n",
    "\n",
    "    npy_intp dims[2] = {n, m};\n",
    "    PyArrayObject *C = (PyArrayObject*) PyArray_ZEROS(2, dims, NPY_DOUBLE, 0);\n",
    "    if (!C) {\n",
    "        Py_DECREF(A); Py_DECREF(B);\n",
    "        PyErr_NoMemory();\n",
    "        return NULL;\n",
    "    }\n",
    "\n",
    "    double *a = (double*) PyArray_DATA(A);\n",
    "    double *b = (double*) PyArray_DATA(B);\n",
    "    double *c = (double*) PyArray_DATA(C);\n",
    "\n",
    "    npy_intp lda = PyArray_STRIDES(A)[0] / sizeof(double);\n",
    "    npy_intp ldb = PyArray_STRIDES(B)[0] / sizeof(double);\n",
    "    npy_intp ldc = PyArray_STRIDES(C)[0] / sizeof(double);\n",
    "\n",
    "    #pragma omp parallel for if(n*m > 16384) schedule(static)\n",
    "    for (npy_intp i = 0; i < n; ++i) {\n",
    "        for (npy_intp k = 0; k < p; ++k) {\n",
    "            double aik = a[i*lda + k];\n",
    "            const double* bk = b + k*ldb;\n",
    "            double* ci = c + i*ldc;\n",
    "            for (npy_intp j = 0; j < m; ++j) {\n",
    "                ci[j] += aik * bk[j];\n",
    "            }\n",
    "        }\n",
    "    }\n",
    "\n",
    "    Py_DECREF(A); Py_DECREF(B);\n",
    "    return (PyObject*) C;\n",
    "}\n",
    "\n",
    "static PyMethodDef Methods[] = {\n",
    "    {\"matmul_omp\", matmul_omp, METH_VARARGS, \"C = A @ B (double), com OpenMP opcional.\"},\n",
    "    {\"matmul_seq\", matmul_seq, METH_VARARGS, \"C = A @ B (double).\"},\n",
    "    {NULL, NULL, 0, NULL}\n",
    "};\n",
    "\n",
    "static struct PyModuleDef moduledef = {\n",
    "    PyModuleDef_HEAD_INIT,\n",
    "    \"mymatmul\",\n",
    "    \"Módulo de multiplicação de matrizes em C com OpenMP opcional.\",\n",
    "    -1,\n",
    "    Methods\n",
    "};\n",
    "\n",
    "PyMODINIT_FUNC PyInit_mymatmul(void) {\n",
    "    import_array();\n",
    "    return PyModule_Create(&moduledef);\n",
    "}\n",
    "'''\n",
    "open(\"mymatmul.c\", \"w\", encoding=\"utf-8\").write(mymatmul_c)\n",
    "print(\"Arquivo gerado: mymatmul.c\")\n"
   ]
  },
  {
   "cell_type": "code",
   "execution_count": 11,
   "id": "0abc4966",
   "metadata": {},
   "outputs": [
    {
     "name": "stdout",
     "output_type": "stream",
     "text": [
      "Arquivo gerado: setup.py\n"
     ]
    }
   ],
   "source": [
    "\n",
    "# Gerar setup.py\n",
    "setup_py = r'''\n",
    "from setuptools import setup, Extension\n",
    "import sys\n",
    "import numpy\n",
    "\n",
    "extra_compile_args = ['-O3']\n",
    "extra_link_args = []\n",
    "\n",
    "if sys.platform.startswith('linux') or sys.platform == 'darwin':\n",
    "    extra_compile_args += ['-fopenmp']\n",
    "    extra_link_args += ['-fopenmp']\n",
    "\n",
    "ext = Extension(\n",
    "    name='mymatmul',\n",
    "    sources=['mymatmul.c'],\n",
    "    include_dirs=[numpy.get_include()],\n",
    "    extra_compile_args=extra_compile_args,\n",
    "    extra_link_args=extra_link_args,\n",
    ")\n",
    "\n",
    "setup(\n",
    "    name='mymatmul',\n",
    "    version='0.1.0',\n",
    "    description='Multiplicação de matrizes em C com OpenMP opcional (CPython API).',\n",
    "    ext_modules=[ext],\n",
    ")\n",
    "'''\n",
    "open(\"setup.py\", \"w\", encoding=\"utf-8\").write(setup_py)\n",
    "print(\"Arquivo gerado: setup.py\")\n"
   ]
  },
  {
   "cell_type": "markdown",
   "id": "bc7f58ba",
   "metadata": {},
   "source": [
    "\n",
    "### Compilação\n",
    "\n",
    "> Execute **localmente** (pode não funcionar em todos os ambientes online):\n",
    "\n",
    "```bash\n",
    "python setup.py build_ext --inplace\n",
    "```\n",
    "\n",
    "Se tudo der certo, você verá `mymatmul.*.so` (Linux/Mac) ou `.pyd` (Windows).\n"
   ]
  },
  {
   "cell_type": "code",
   "execution_count": 12,
   "id": "087f319a",
   "metadata": {},
   "outputs": [
    {
     "name": "stdout",
     "output_type": "stream",
     "text": [
      "mymatmul importado com sucesso.\n"
     ]
    }
   ],
   "source": [
    "\n",
    "# Teste de importação (funciona somente após compilar)\n",
    "try:\n",
    "    import mymatmul\n",
    "    print(\"mymatmul importado com sucesso.\")\n",
    "except Exception as e:\n",
    "    print(\"mymatmul ainda não está compilado/importável:\", e)\n"
   ]
  },
  {
   "cell_type": "code",
   "execution_count": 22,
   "id": "8da38f2b",
   "metadata": {},
   "outputs": [],
   "source": [
    "\n",
    "# Benchmark opcional usando a extensão C (se disponível)\n",
    "def bench_extension(sizes, repeats):\n",
    "    import mymatmul\n",
    "    res = []\n",
    "    for n in sizes:\n",
    "        times = []\n",
    "        for _ in range(repeats):\n",
    "            A = np.random.rand(n, n).astype(np.float64, copy=False)\n",
    "            B = np.random.rand(n, n).astype(np.float64, copy=False)\n",
    "            t0 = time.time()\n",
    "            C = mymatmul.matmul_seq(A, B)\n",
    "            times.append(time.time() - t0)\n",
    "        res.append({\"n\": n, \"mean\": float(np.mean(times)), \"std\": float(np.std(times))})\n",
    "    return res\n",
    "\n",
    "ext_results = None\n",
    "try:\n",
    "    import mymatmul  # noqa\n",
    "    ext_results = bench_extension(SIZES, REPEATS)\n",
    "    ext_results\n",
    "except Exception as e:\n",
    "    print(\"Extensão não disponível; pule esta etapa. Motivo:\", e)\n"
   ]
  },
  {
   "cell_type": "code",
   "execution_count": 23,
   "id": "f5c22c43",
   "metadata": {},
   "outputs": [
    {
     "data": {
      "image/png": "[encoded data removed]",
      "text/plain": [
       "<Figure size 600x400 with 1 Axes>"
      ]
     },
     "metadata": {},
     "output_type": "display_data"
    }
   ],
   "source": [
    "\n",
    "# Plot comparativo: NumPy vs Extensão C (se existir)\n",
    "if 'ext_results' in globals() and ext_results:\n",
    "    xs_np = [r[\"n\"] for r in numpy_results]\n",
    "    ys_np = [r[\"mean\"] for r in numpy_results]\n",
    "    xs_ex = [r[\"n\"] for r in ext_results]\n",
    "    ys_ex = [r[\"mean\"] for r in ext_results]\n",
    "\n",
    "    plt.figure(figsize=(6,4))\n",
    "    plt.plot(xs_np, ys_np, marker=\"o\", label=\"NumPy (@)\")\n",
    "    plt.plot(xs_ex, ys_ex, marker=\"s\", label=\"CPython C (OpenMP)\")\n",
    "    plt.xlabel(\"Tamanho n (n×n)\")\n",
    "    plt.ylabel(\"Tempo (s)\")\n",
    "    plt.title(\"Comparativo: NumPy vs Extensão CPython (C/OpenMP)\")\n",
    "    plt.grid(True, linestyle=\"--\", alpha=0.5)\n",
    "    plt.legend()\n",
    "    plt.show()\n",
    "else:\n",
    "    print(\"Sem extensão compilada — gráfico comparativo omitido.\")\n"
   ]
  },
  {
   "cell_type": "markdown",
   "id": "75b26fc6",
   "metadata": {},
   "source": [
    "\n",
    "<a id=\"openmp\"></a>\n",
    "\n",
    "## 6) Nota sobre **OpenMP (CPU)**\n",
    "\n",
    "- O código C usa `#pragma omp parallel for` (condicional com `_OPENMP`).\n",
    "- As flags `-fopenmp` (GCC/Clang) habilitam a paralelização.\n",
    "- Ajuste `OMP_NUM_THREADS` para controlar o número de threads.\n",
    "\n",
    "Exemplo:\n",
    "```bash\n",
    "export OMP_NUM_THREADS=4\n",
    "python -c \"import numpy as np, mymatmul as mm; A=np.random.rand(512,512); B=np.random.rand(512,512); mm.matmul_omp(A,B)\"\n",
    "```\n"
   ]
  },
  {
   "cell_type": "markdown",
   "id": "f8f7be8e",
   "metadata": {},
   "source": [
    "<a id=\"openmctypep\"></a>\n",
    "\n",
    "## 7) Integração Python–C com `ctypes`\n",
    "\n",
    "- `ctypes` permite **reusar bibliotecas C** já existentes — **sem** escrever um módulo CPython completo."
   ]
  },
  {
   "cell_type": "code",
   "execution_count": 47,
   "id": "dba03a8f",
   "metadata": {},
   "outputs": [
    {
     "name": "stdout",
     "output_type": "stream",
     "text": [
      "Overwriting matmul.c\n"
     ]
    }
   ],
   "source": [
    "%%writefile matmul.c\n",
    "#include <stdio.h>\n",
    "#include <stdlib.h>\n",
    "#include <omp.h>\n",
    "\n",
    "// C = A(n x m) = A(n x p) * B(p x m)\n",
    "void matmul(double *A, double *B, double *C, int n, int m, int p) {\n",
    "    #pragma omp parallel for \n",
    "    for (int i = 0; i < n; i++) {\n",
    "        for (int j = 0; j < m; j++) {\n",
    "            double s = 0.0;\n",
    "            for (int k = 0; k < p; k++) {\n",
    "                s += A[i*p + k] * B[k*m + j];\n",
    "            }\n",
    "            C[i*m + j] = s;\n",
    "        }\n",
    "    }\n",
    "}"
   ]
  },
  {
   "cell_type": "markdown",
   "id": "693ce948",
   "metadata": {},
   "source": [
    "### 7.1) Compilação da biblioteca compartilhada (`.so`)\n",
    "\n",
    "No Linux/macOS (ou WSL), compile com:\n"
   ]
  },
  {
   "cell_type": "code",
   "execution_count": 48,
   "id": "e5568d5d",
   "metadata": {},
   "outputs": [
    {
     "name": "stdout",
     "output_type": "stream",
     "text": [
      "OK: libmatmul.so gerada.\n"
     ]
    }
   ],
   "source": [
    "# Se gcc estiver disponível neste ambiente, o comando abaixo compila a biblioteca.\n",
    "# Caso contrário, execute localmente: gcc -O3 -fPIC -shared -o libmatmul.so matmul.c\n",
    "import shutil, subprocess, sys, os\n",
    "from pathlib import Path\n",
    "\n",
    "src = Path(\"matmul.c\")\n",
    "out = Path(\"libmatmul.so\")\n",
    "if shutil.which(\"gcc\"):\n",
    "    try:\n",
    "        subprocess.check_call([\"gcc\", \"-O3\", \"-fPIC\", \"-shared\", \"-o\", str(out), str(src), \"-fopenmp\"])\n",
    "        print(\"OK: libmatmul.so gerada.\")\n",
    "    except subprocess.CalledProcessError as e:\n",
    "        print(\"Falha ao compilar com gcc:\", e)\n",
    "else:\n",
    "    print(\"gcc não encontrado neste ambiente. Compile localmente:\")\n",
    "    print(\"gcc -O3 -fPIC -shared -o libmatmul.so matmul.c\")"
   ]
  },
  {
   "cell_type": "markdown",
   "id": "3723776c",
   "metadata": {},
   "source": [
    "\n",
    "### 7.2) Carregando e chamando a função C no Python (`ctypes`)\n",
    "\n",
    "Definimos a assinatura da função e criamos um *wrapper* Python que aceita/retorna `numpy.ndarray`."
   ]
  },
  {
   "cell_type": "code",
   "execution_count": 49,
   "id": "66a354b1",
   "metadata": {},
   "outputs": [],
   "source": [
    "\n",
    "import numpy as np\n",
    "from ctypes import CDLL, POINTER, c_double, c_int\n",
    "from pathlib import Path\n",
    "\n",
    "def load_lib(path=\"./libmatmul.so\"):\n",
    "    p = Path(path)\n",
    "    if not p.exists():\n",
    "        raise FileNotFoundError(f\"Biblioteca não encontrada: {p}. Compile com gcc - ver célula anterior.\")\n",
    "    return CDLL(path)\n",
    "\n",
    "def matmul_ctypes(A: np.ndarray, B: np.ndarray, lib=None):\n",
    "    if lib is None:\n",
    "        lib = load_lib()\n",
    "    n, p = A.shape\n",
    "    p2, m = B.shape\n",
    "    if p != p2:\n",
    "        raise ValueError(\"Dimensões incompatíveis: A(n x p) e B(p x m).\")\n",
    "    A_c = np.ascontiguousarray(A, dtype=np.float64)\n",
    "    B_c = np.ascontiguousarray(B, dtype=np.float64)\n",
    "    C = np.empty((n, m), dtype=np.float64, order=\"C\")\n",
    "    lib.matmul.argtypes = [POINTER(c_double), POINTER(c_double), POINTER(c_double), c_int, c_int, c_int]\n",
    "    lib.matmul.restype = None\n",
    "    lib.matmul(A_c.ctypes.data_as(POINTER(c_double)),\n",
    "               B_c.ctypes.data_as(POINTER(c_double)),\n",
    "               C.ctypes.data_as(POINTER(c_double)),\n",
    "               c_int(n), c_int(m), c_int(p))\n",
    "    return C\n"
   ]
  },
  {
   "cell_type": "markdown",
   "id": "de35b33e",
   "metadata": {},
   "source": [
    "### 7.3) Validação numérica (comparação com NumPy)\n"
   ]
  },
  {
   "cell_type": "code",
   "execution_count": 50,
   "id": "999d48d0",
   "metadata": {},
   "outputs": [
    {
     "name": "stdout",
     "output_type": "stream",
     "text": [
      "Diferença máxima: 1.0658141036401503e-14\n"
     ]
    }
   ],
   "source": [
    "A = np.random.rand(64, 64)\n",
    "B = np.random.rand(64, 64)\n",
    "lib = None\n",
    "try:\n",
    "    lib = load_lib()\n",
    "except Exception as e:\n",
    "    print(\"Aviso:\", e)\n",
    "\n",
    "if lib:\n",
    "    C_ctypes = matmul_ctypes(A, B, lib=lib)\n",
    "    C_np = A @ B\n",
    "    print(\"Diferença máxima:\", np.max(np.abs(C_ctypes - C_np)))\n",
    "else:\n",
    "    print(\"Pule a validação se não compilou a biblioteca ainda.\")\n"
   ]
  },
  {
   "cell_type": "code",
   "execution_count": 51,
   "id": "aff180c7",
   "metadata": {},
   "outputs": [
    {
     "name": "stdout",
     "output_type": "stream",
     "text": [
      "n= 128 | NumPy: 0.0013s | ctypes: 0.0026s | speedup (NumPy/ctypes) = 0.49x\n",
      "n= 256 | NumPy: 0.0120s | ctypes: 0.0325s | speedup (NumPy/ctypes) = 0.37x\n",
      "n= 512 | NumPy: 0.0052s | ctypes: 0.7822s | speedup (NumPy/ctypes) = 0.01x\n"
     ]
    }
   ],
   "source": [
    "def bench(fn, *args, repeats=3):\n",
    "    ts = []\n",
    "    for _ in range(repeats):\n",
    "        t0 = time.time()\n",
    "        fn(*args)\n",
    "        ts.append(time.time() - t0)\n",
    "    return float(np.mean(ts)), float(np.std(ts))\n",
    "\n",
    "sizes = [128, 256, 512]\n",
    "if lib:\n",
    "    for n in sizes:\n",
    "        A = np.random.rand(n, n)\n",
    "        B = np.random.rand(n, n)\n",
    "        t_numpy, _ = bench(lambda X, Y: X @ Y, A, B, repeats=3)\n",
    "        t_ct, _ = bench(matmul_ctypes, A, B, lib, repeats=3)\n",
    "        speedup = t_numpy / t_ct if t_ct > 0 else float(\"inf\")\n",
    "        print(f\"n={n:4d} | NumPy: {t_numpy:.4f}s | ctypes: {t_ct:.4f}s | speedup (NumPy/ctypes) = {speedup:.2f}x\")\n",
    "else:\n",
    "    print(\"Compile a biblioteca primeiro para executar o benchmark.\")\n"
   ]
  },
  {
   "cell_type": "markdown",
   "id": "6112bd64",
   "metadata": {},
   "source": [
    "\n",
    "<a id=\"cuda\"></a>\n",
    "\n",
    "## 8) CUDA / GPU (opcional)\n",
    "\n",
    "### Opção rápida (sem compilar C/CUDA): **CuPy**\n",
    "Se você tiver CUDA instalado e uma GPU NVIDIA, a biblioteca **CuPy** replica a API do NumPy e já usa CUDA/CuBLAS.\n",
    "\n",
    "```python\n",
    "try:\n",
    "    import cupy as cp\n",
    "    n = 1024\n",
    "    A_gpu = cp.random.rand(n, n, dtype=cp.float64)\n",
    "    B_gpu = cp.random.rand(n, n, dtype=cp.float64)\n",
    "    cp.cuda.Stream.null.synchronize()\n",
    "    t0 = time.time()\n",
    "    C_gpu = A_gpu @ B_gpu\n",
    "    cp.cuda.Stream.null.synchronize()\n",
    "    print(\"Tempo CuPy:\", time.time() - t0)\n",
    "except Exception as e:\n",
    "    print(\"CuPy não disponível:\", e)\n",
    "```\n",
    "\n",
    "### (Avançado) Kernel CUDA em C\n",
    "Para quem deseja compilar manualmente um `.cu` e expor via `ctypes`:\n",
    "1. Escrever um kernel CUDA com `__global__` para `matmul`.\n",
    "2. Compilar com `nvcc -Xcompiler -fPIC -shared -o libmmcuda.so mm.cu`.\n",
    "3. Carregar em Python via `ctypes.CDLL(\"libmmcuda.so\")` e escrever *wrappers*.\n",
    "\n",
    "**Requisitos**:\n",
    "- CUDA Toolkit (nvcc) instalado e no PATH.\n",
    "- Driver compatível.\n",
    "- Linux/WSL: gera `.so`; Windows: pode gerar `.dll` (ajuste o nome do arquivo).\n"
   ]
  },
  {
   "cell_type": "code",
   "execution_count": 36,
   "id": "35d4c96c",
   "metadata": {},
   "outputs": [
    {
     "name": "stdout",
     "output_type": "stream",
     "text": [
      "Tempo CuPy (n=256): 0.4690s | Fallback usado: False\n"
     ]
    }
   ],
   "source": [
    "# Execução com fallback automático (sem cuRAND)\n",
    "# - Tenta cp.random.* (cuRAND)\n",
    "# - Se falhar, gera no NumPy (CPU) e copia para GPU (cp.asarray)\n",
    "\n",
    "try:\n",
    "    import cupy as cp\n",
    "\n",
    "    # 1) Detecta GPU e inicializa contexto\n",
    "    if cp.cuda.runtime.getDeviceCount() == 0:\n",
    "        raise RuntimeError(\"Nenhuma GPU visível (ative GPU ou verifique o driver/CUDA).\")\n",
    "    cp.cuda.Device(0).use()\n",
    "    _ = cp.zeros(1)  # força inicialização do contexto\n",
    "    cp.cuda.Stream.null.synchronize()\n",
    "\n",
    "    # Tamanho padrão (reaproveita SIZES do notebook, se existir)\n",
    "    n = (SIZES[-1] if 'SIZES' in globals() and isinstance(SIZES, (list, tuple)) and len(SIZES) > 0 else 1024)\n",
    "\n",
    "    # 2) Tenta usar cuRAND (cp.random)\n",
    "    use_fallback = False\n",
    "    try:\n",
    "        cp.random.seed(0)\n",
    "        A_gpu = cp.random.random_sample((n, n), dtype=cp.float64)\n",
    "        B_gpu = cp.random.random_sample((n, n), dtype=cp.float64)\n",
    "    except Exception as e_rand:\n",
    "        print(\"Falha com cp.random / cuRAND:\", e_rand)\n",
    "        print(\"→ Usando fallback: gerar no NumPy (CPU) e copiar para GPU.\")\n",
    "        use_fallback = True\n",
    "\n",
    "    # 3) Fallback: gera dados no CPU e transfere para GPU\n",
    "    if use_fallback:\n",
    "        A_cpu = np.random.rand(n, n).astype(np.float64, copy=False)\n",
    "        B_cpu = np.random.rand(n, n).astype(np.float64, copy=False)\n",
    "        A_gpu = cp.asarray(A_cpu)\n",
    "        B_gpu = cp.asarray(B_cpu)\n",
    "\n",
    "    # 4) GEMM na GPU\n",
    "    cp.cuda.Stream.null.synchronize()\n",
    "    t0 = time.time()\n",
    "    C_gpu = A_gpu @ B_gpu\n",
    "    cp.cuda.Stream.null.synchronize()\n",
    "    print(f\"Tempo CuPy (n={n}): {time.time() - t0:.4f}s | Fallback usado: {use_fallback}\")\n",
    "\n",
    "except Exception as e:\n",
    "    print(\"CuPy/GPU indisponível:\", e)\n"
   ]
  },
  {
   "cell_type": "code",
   "execution_count": 52,
   "id": "b1c88e73",
   "metadata": {},
   "outputs": [
    {
     "name": "stdout",
     "output_type": "stream",
     "text": [
      "Writing mm.cu\n"
     ]
    }
   ],
   "source": [
    "%%writefile mm.cu\n",
    "#include <cuda_runtime.h>\n",
    "#include <stdio.h>\n",
    "#include <stdlib.h>\n",
    "\n",
    "#define CHECK_CUDA(err) do { \\\n",
    "    cudaError_t e = (err); \\\n",
    "    if (e != cudaSuccess) { \\\n",
    "        fprintf(stderr, \"CUDA error %s:%d: %s\\n\", __FILE__, __LINE__, cudaGetErrorString(e)); \\\n",
    "        return; \\\n",
    "    } \\\n",
    "} while (0)\n",
    "\n",
    "extern \"C\" __global__\n",
    "void matmul_kernel(const float* __restrict__ A,\n",
    "                   const float* __restrict__ B,\n",
    "                   float* __restrict__ C,\n",
    "                   int n, int m, int p) {\n",
    "    // A: (n x p), B: (p x m), C: (n x m) — row-major (C-order)\n",
    "    int col = blockIdx.x * blockDim.x + threadIdx.x;  // m\n",
    "    int row = blockIdx.y * blockDim.y + threadIdx.y;  // n\n",
    "    if (row < n && col < m) {\n",
    "        float acc = 0.0f;\n",
    "        for (int k = 0; k < p; ++k) {\n",
    "            acc += A[row * p + k] * B[k * m + col];\n",
    "        }\n",
    "        C[row * m + col] = acc;\n",
    "    }\n",
    "}\n",
    "\n",
    "// Função de alto nível (sem name mangling) chamada via ctypes\n",
    "extern \"C\"\n",
    "void mm_matmul(const float* hA, const float* hB, float* hC, int n, int m, int p) {\n",
    "    // hA: host A(n x p), hB: host B(p x m), hC: host C(n x m)\n",
    "    float *dA = nullptr, *dB = nullptr, *dC = nullptr;\n",
    "    size_t sizeA = (size_t)n * p * sizeof(float);\n",
    "    size_t sizeB = (size_t)p * m * sizeof(float);\n",
    "    size_t sizeC = (size_t)n * m * sizeof(float);\n",
    "\n",
    "    CHECK_CUDA(cudaMalloc((void**)&dA, sizeA));\n",
    "    CHECK_CUDA(cudaMalloc((void**)&dB, sizeB));\n",
    "    CHECK_CUDA(cudaMalloc((void**)&dC, sizeC));\n",
    "\n",
    "    CHECK_CUDA(cudaMemcpy(dA, hA, sizeA, cudaMemcpyHostToDevice));\n",
    "    CHECK_CUDA(cudaMemcpy(dB, hB, sizeB, cudaMemcpyHostToDevice));\n",
    "\n",
    "    dim3 block(16, 16);\n",
    "    dim3 grid((m + block.x - 1) / block.x, (n + block.y - 1) / block.y);\n",
    "    matmul_kernel<<<grid, block>>>(dA, dB, dC, n, m, p);\n",
    "    CHECK_CUDA(cudaGetLastError());\n",
    "    CHECK_CUDA(cudaDeviceSynchronize());\n",
    "\n",
    "    CHECK_CUDA(cudaMemcpy(hC, dC, sizeC, cudaMemcpyDeviceToHost));\n",
    "\n",
    "    cudaFree(dA);\n",
    "    cudaFree(dB);\n",
    "    cudaFree(dC);\n",
    "}"
   ]
  },
  {
   "cell_type": "code",
   "execution_count": 53,
   "id": "7e5eba8f",
   "metadata": {},
   "outputs": [
    {
     "name": "stdout",
     "output_type": "stream",
     "text": [
      "Compilando: nvcc -Xcompiler -fPIC -shared -O3 -o libmmcuda.so mm.cu\n",
      "OK: libmmcuda.so gerada.\n"
     ]
    }
   ],
   "source": [
    "import os, sys, subprocess, shlex\n",
    "\n",
    "cmd = \"nvcc -Xcompiler -fPIC -shared -O3 -o libmmcuda.so mm.cu\"\n",
    "print(\"Compilando:\", cmd)\n",
    "try:\n",
    "    subprocess.check_call(shlex.split(cmd))\n",
    "    print(\"OK: libmmcuda.so gerada.\")\n",
    "except subprocess.CalledProcessError as e:\n",
    "    print(\"Falha ao compilar com nvcc:\", e)\n",
    "    print(\"Verifique se o CUDA Toolkit está instalado e nvcc está no PATH.\")"
   ]
  },
  {
   "cell_type": "code",
   "execution_count": 54,
   "id": "f9fe58a7",
   "metadata": {},
   "outputs": [],
   "source": [
    "import ctypes as ct\n",
    "lib = ct.CDLL(\"./libmmcuda.so\")"
   ]
  },
  {
   "cell_type": "code",
   "execution_count": 55,
   "id": "e41ae42e",
   "metadata": {},
   "outputs": [],
   "source": [
    "import numpy as np\n",
    "import ctypes as ct\n",
    "from pathlib import Path\n",
    "\n",
    "# Carrega a biblioteca compartilhada\n",
    "lib_path = Path(\"./libmmcuda.so\")\n",
    "if not lib_path.exists():\n",
    "    raise FileNotFoundError(\"libmmcuda.so não encontrada. Compile antes com nvcc.\")\n",
    "\n",
    "lib = ct.CDLL(\"./libmmcuda.so\")\n",
    "\n",
    "# Define assinatura da função C: void mm_matmul(const float*, const float*, float*, int, int, int)\n",
    "lib.mm_matmul.argtypes = [\n",
    "    ct.POINTER(ct.c_float),  # A\n",
    "    ct.POINTER(ct.c_float),  # B\n",
    "    ct.POINTER(ct.c_float),  # C\n",
    "    ct.c_int,                # n\n",
    "    ct.c_int,                # m\n",
    "    ct.c_int                 # p\n",
    "]\n",
    "lib.mm_matmul.restype = None\n",
    "\n",
    "def mm_matmul(A: np.ndarray, B: np.ndarray) -> np.ndarray:\n",
    "    \"\"\"\n",
    "    Multiplicação de matrizes usando a lib CUDA (float32, C-order).\n",
    "    A: (n, p), B: (p, m) -> C: (n, m)\n",
    "    \"\"\"\n",
    "    if A.dtype != np.float32 or B.dtype != np.float32:\n",
    "        raise TypeError(\"Use float32 em A e B.\")\n",
    "    if not (A.flags.c_contiguous and B.flags.c_contiguous):\n",
    "        raise ValueError(\"A e B devem ser C-contiguous.\")\n",
    "    n, p = A.shape\n",
    "    p2, m = B.shape\n",
    "    if p != p2:\n",
    "        raise ValueError(\"Dimensões incompatíveis: A(n x p) e B(p x m).\")\n",
    "\n",
    "    C = np.empty((n, m), dtype=np.float32, order='C')\n",
    "\n",
    "    A_ptr = A.ctypes.data_as(ct.POINTER(ct.c_float))\n",
    "    B_ptr = B.ctypes.data_as(ct.POINTER(ct.c_float))\n",
    "    C_ptr = C.ctypes.data_as(ct.POINTER(ct.c_float))\n",
    "\n",
    "    lib.mm_matmul(A_ptr, B_ptr, C_ptr, int(n), int(m), int(p))\n",
    "    return C"
   ]
  },
  {
   "cell_type": "markdown",
   "id": "71c0ece0",
   "metadata": {},
   "source": [
    "\n",
    "<a id=\"fim\"></a>\n",
    "\n",
    "## 8) Discussão e próximos passos\n",
    "\n",
    "- **Quando vale a pena escrever C/C++?** Partes críticas e *hotspots*.\n",
    "- **NumPy primeiro**: costuma ser suficiente para 80% dos casos.\n",
    "- **Extensões CPython**: máximo controle e desempenho, com custo de complexidade.\n",
    "- **GPU**: use **CuPy** para acelerar com baixa fricção; para casos extremos, CUDA C/C++.\n",
    "\n",
    "### Referências\n",
    "- Documentação oficial (Extending/Embedding): https://docs.python.org/3/extending/\n",
    "- NumPy C-API: https://numpy.org/doc/stable/reference/c-api/\n",
    "- OpenMP: https://www.openmp.org/\n",
    "- CuPy: https://cupy.dev/\n"
   ]
  }
 ],
 "metadata": {
  "kernelspec": {
   "display_name": "HAPI-Seg",
   "language": "python",
   "name": "python3"
  },
  "language_info": {
   "codemirror_mode": {
    "name": "ipython",
    "version": 3
   },
   "file_extension": ".py",
   "mimetype": "text/x-python",
   "name": "python",
   "nbconvert_exporter": "python",
   "pygments_lexer": "ipython3",
   "version": "3.11.9"
  }
 },
 "nbformat": 4,
 "nbformat_minor": 5
}
